{
 "cells": [
  {
   "cell_type": "code",
   "execution_count": 1,
   "id": "76f33547",
   "metadata": {},
   "outputs": [],
   "source": [
    "%%capture\n",
    "\n",
    "import sys\n",
    "!{sys.executable} -m pip install firebase_admin\n",
    "\n",
    "import firebase_admin\n",
    "from firebase_admin import firestore\n",
    "\n",
    "api_file_path = '/Users/llewellynvandenberg/Library/CloudStorage/OneDrive-Personal/Industry Above/phase1/lodge_dashboard/firebase/api_key/propertydashboard-b02fb-firebase-adminsdk-ig2rx-0930f6b367.json'"
   ]
  },
  {
   "cell_type": "code",
   "execution_count": null,
   "id": "88ce212b",
   "metadata": {},
   "outputs": [],
   "source": []
  },
  {
   "cell_type": "code",
   "execution_count": null,
   "id": "e1f3cf20",
   "metadata": {},
   "outputs": [],
   "source": []
  },
  {
   "cell_type": "code",
   "execution_count": 3,
   "id": "9273b328",
   "metadata": {},
   "outputs": [
    {
     "data": {
      "text/plain": [
       "<firebase_admin.App at 0x11175a310>"
      ]
     },
     "execution_count": 3,
     "metadata": {},
     "output_type": "execute_result"
    }
   ],
   "source": [
    "import firebase_admin\n",
    "from firebase_admin import credentials\n",
    "\n",
    "cred = credentials.Certificate(api_file_path)\n",
    "firebase_admin.initialize_app(cred)\n"
   ]
  },
  {
   "cell_type": "code",
   "execution_count": 7,
   "id": "32cda98b",
   "metadata": {},
   "outputs": [],
   "source": [
    "db = firestore.client()"
   ]
  },
  {
   "cell_type": "code",
   "execution_count": 8,
   "id": "c4fbb58a",
   "metadata": {},
   "outputs": [],
   "source": [
    "properties = db.collection('properties')"
   ]
  },
  {
   "cell_type": "code",
   "execution_count": 15,
   "id": "9bf424ca",
   "metadata": {},
   "outputs": [
    {
     "ename": "AttributeError",
     "evalue": "'Query' object has no attribute 'prop_code'",
     "output_type": "error",
     "traceback": [
      "\u001b[0;31m---------------------------------------------------------------------------\u001b[0m",
      "\u001b[0;31mAttributeError\u001b[0m                            Traceback (most recent call last)",
      "Cell \u001b[0;32mIn[15], line 1\u001b[0m\n\u001b[0;32m----> 1\u001b[0m \u001b[38;5;28mprint\u001b[39m(\u001b[43mproperties\u001b[49m\u001b[38;5;241;43m.\u001b[39;49m\u001b[43mwhere\u001b[49m\u001b[43m(\u001b[49m\u001b[38;5;124;43m'\u001b[39;49m\u001b[38;5;124;43mprop_code\u001b[39;49m\u001b[38;5;124;43m'\u001b[39;49m\u001b[43m,\u001b[49m\u001b[43m \u001b[49m\u001b[38;5;124;43m'\u001b[39;49m\u001b[38;5;124;43m==\u001b[39;49m\u001b[38;5;124;43m'\u001b[39;49m\u001b[43m \u001b[49m\u001b[43m,\u001b[49m\u001b[43m \u001b[49m\u001b[38;5;124;43m'\u001b[39;49m\u001b[38;5;124;43m1\u001b[39;49m\u001b[38;5;124;43m'\u001b[39;49m\u001b[43m)\u001b[49m\u001b[38;5;241;43m.\u001b[39;49m\u001b[43mprop_code\u001b[49m)\n",
      "\u001b[0;31mAttributeError\u001b[0m: 'Query' object has no attribute 'prop_code'"
     ]
    }
   ],
   "source": [
    "print(properties.where('prop_code', '==' , '1').)"
   ]
  },
  {
   "cell_type": "code",
   "execution_count": 16,
   "id": "1ba78222",
   "metadata": {},
   "outputs": [
    {
     "name": "stdout",
     "output_type": "stream",
     "text": [
      "1 => {'rooms': {'variants': {'availability': True, 'date': DatetimeWithNanoseconds(2023, 7, 12, 22, 0, 0, 602000, tzinfo=datetime.timezone.utc), 'nights': 1, 'price': 1000}, 'room_name': 'testName', 'room_code': '1', 'occupency': 1}, 'prop_code': '1', 'site': 'Test', 'room_codes': ['1', '2', '3'], 'prop_ID': 'testProperty'}\n"
     ]
    }
   ],
   "source": [
    "docs = db.collection(\"properties\").where(\"prop_code\", \"==\", '1').stream()\n",
    "\n",
    "for doc in docs:\n",
    "    print(f\"{doc.id} => {doc.to_dict()}\")"
   ]
  },
  {
   "cell_type": "code",
   "execution_count": 17,
   "id": "73463772",
   "metadata": {},
   "outputs": [],
   "source": [
    "URL = \"https://www.lekkeslaap.co.za/forms/new_enquiry_form/backend/details.php\"\n",
    "\n",
    "\n",
    "PAYLOAD = \"\"\n",
    "HEADERS = {\n",
    "    \"authority\": \"www.lekkeslaap.co.za\",\n",
    "    \"accept\": \"application/json, text/plain, */*\",\n",
    "    \"accept-language\": \"en-GB,en-US;q=0.9,en;q=0.8\",\n",
    "    \"referer\": \"https://www.lekkeslaap.co.za/accommodation/antrim-collection/book\",\n",
    "    \"sec-ch-ua\": '\"Not.A/Brand\";v=\"8\", \"Chromium\";v=\"114\", \"Google Chrome\";v=\"114\"',\n",
    "    \"sec-ch-ua-mobile\": \"?0\",\n",
    "    \"sec-ch-ua-platform\": '\"macOS\"',\n",
    "    \"sec-fetch-dest\": \"empty\",\n",
    "    \"sec-fetch-mode\": \"cors\",\n",
    "    \"sec-fetch-site\": \"same-origin\",\n",
    "    \"user-agent\": \"Mozilla/5.0 (Macintosh; Intel Mac OS X 10_15_7) AppleWebKit/537.36 (KHTML, like Gecko) Chrome/114.0.0.0 Safari/537.36\"\n",
    "}"
   ]
  },
  {
   "cell_type": "code",
   "execution_count": null,
   "id": "188b1b28",
   "metadata": {},
   "outputs": [],
   "source": []
  }
 ],
 "metadata": {
  "kernelspec": {
   "display_name": "Python 3 (ipykernel)",
   "language": "python",
   "name": "python3"
  },
  "language_info": {
   "codemirror_mode": {
    "name": "ipython",
    "version": 3
   },
   "file_extension": ".py",
   "mimetype": "text/x-python",
   "name": "python",
   "nbconvert_exporter": "python",
   "pygments_lexer": "ipython3",
   "version": "3.11.3"
  }
 },
 "nbformat": 4,
 "nbformat_minor": 5
}
